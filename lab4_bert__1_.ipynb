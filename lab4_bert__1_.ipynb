{
  "cells": [
    {
      "cell_type": "markdown",
      "metadata": {
        "id": "1EkIfyJNhWQK"
      },
      "source": [
        "# Lab 4: Transfer Learning and BERT!\n",
        "\n",
        "11/20/2023, Ankit Ramakrishnan, Harshitha Somala, Nidhi Bodar, Felix Muzny\n",
        "\n",
        "Due on: 11/21/2023 @ 9pm\n",
        "\n",
        "Agenda\n",
        "------\n",
        "+ Get an overview of the BERT architecture\n",
        "+ Download and play with a pre-trained BERT model\n",
        "+ Train your own network that has a pre-trained BERT component\n",
        "+ Play with some parameters!\n",
        "\n",
        "\n",
        "Summary\n",
        "----\n",
        "This lab will guide you through the setup and uses of pretrained models in `Tensorflow` and `transformers`. In this lab we focus on BERT (https://github.com/google-research/bert/) an __encoder only transformer model__. We will use the pretrained model to extract features from text and use these features to train a classifier to classify different types of data. We will setup a binary classifier on the IMDB dataset. You will be working on training new models on the other datasets."
      ]
    },
    {
      "cell_type": "markdown",
      "metadata": {
        "id": "8xa046vRhWQM"
      },
      "source": [
        "# Task 0: Who is in your group?\n",
        "\n",
        "Please work in groups of up to 3 people!\n",
        "\n",
        "6120: Anisha Kumari Kushwaha\n",
        "6120: Sarthak Kagliwal"
      ]
    },
    {
      "cell_type": "markdown",
      "metadata": {
        "id": "C3tlyyzehWQM"
      },
      "source": [
        "TASK 1: BERT questions\n",
        "---\n",
        "\n",
        "Before we dive into the code, we'd like you to take a moment to familiarize yourself with the architecture of BERT.\n",
        "\n",
        "Take a look at the following resources as a group:\n",
        "- [Illustrated BERT](http://jalammar.github.io/illustrated-bert/)\n",
        "- SLP Chapter 11.1\n",
        "- [BERT paper](https://aclanthology.org/N19-1423/)\n",
        "\n",
        "Answer the questions in the next cell about the BERT architecture."
      ]
    },
    {
      "cell_type": "markdown",
      "metadata": {
        "id": "InBxGpnGhWQM"
      },
      "source": [
        "1. What does BERT stand for?\n",
        "\n",
        "    Answer: Bidirectional Encoder Representations from Transformers\n",
        "2. What task is the BERT pre-trained model trained on?\n",
        "\n",
        "    Answer: BERT is pre-trained on a masked language model task.\n",
        "3. How many parameters does BERT_{BASE} have? BERT_{LARGE}?   \n",
        "    Answer: BERT_BASE has 110 million parameters, while BERT_LARGE has 340 million parameters.\n",
        "4. What is the architecture of BERT_{BASE}? (what kind of neural network is it, what are the relevant dimensionality numbers?)  \n",
        "    Answer: BERT_BASE has 12 layers, a hidden size of 768, 12 attention heads, and a total of 110 million parameters.\n",
        "5. What can we feed as input to BERT?\n",
        "\n",
        "    Answer: BERT takes tokenized text as input, including special tokens like [CLS] and [SEP], with optional padding for consistent length.\n",
        "6. What is the output of BERT?  \n",
        "    Answer: The output of BERT is contextualized representations for each token in the input sequence, with the [CLS] token often used for downstream tasks.\n",
        "7. If we want to use BERT to help with a classification task, what is a high-level description of what we'll do? (2 - 3 sentences.)  \n",
        "    Answer: For a classification task using BERT, you would first tokenize and prepare your input text, including the addition of special tokens like [CLS]. Then, you would feed the tokenized sequence into BERT, extract the contextualized representation of the [CLS] token, and pass it through a classification layer (e.g., a softmax layer) to obtain class probabilities. Finally, you can train the model using labeled data and fine-tune the classification layer for the specific task."
      ]
    },
    {
      "cell_type": "markdown",
      "metadata": {
        "id": "x2scZQUjhWQN"
      },
      "source": [
        "Installation Intermission\n",
        "----"
      ]
    },
    {
      "cell_type": "code",
      "execution_count": 1,
      "metadata": {
        "id": "L1C-vVvT3cEj"
      },
      "outputs": [],
      "source": [
        "# make sure that the correct version of transformers and tensorflow is installed\n",
        "# https://huggingface.co/docs/transformers/index\n",
        "# https://www.tensorflow.org/install/pip\n",
        "# !pip install transformers==4.35.0 tensorflow==2.14.0\n",
        "\n",
        "# if you are on a mac w/ an M1 chip, you'll need a specific tensorflow-metal version\n",
        "# !pip install tensorflow-metal==1.1.0"
      ]
    },
    {
      "cell_type": "code",
      "execution_count": 2,
      "metadata": {
        "id": "70O-tnuj3U72"
      },
      "outputs": [],
      "source": [
        "import tensorflow as tf\n",
        "import transformers\n",
        "import numpy as np\n",
        "import pandas as pd\n",
        "\n",
        "# for plotting\n",
        "import matplotlib.pyplot as plt\n",
        "\n",
        "# if you want, not required\n",
        "import seaborn as sns"
      ]
    },
    {
      "cell_type": "markdown",
      "metadata": {
        "id": "yPgW_W1i3U73"
      },
      "source": [
        "Ensure that your versions match the ones below. If you are running this locally, install the packages with :\n",
        "\n",
        "```bash\n",
        "pip install transformers==4.35.0 tensorflow==2.14.0\n",
        "```\n",
        "\n",
        "If you get an error on import like:\n",
        "\n",
        "```\n",
        "NotFoundError: dlopen(ENVIRONMENT PATH/lib/python3.10/site-packages/tensorflow-plugins/libmetal_plugin.dylib, 0x0006): symbol not found in flat namespace '__ZN10tensorflow8internal10LogMessage16VmoduleActivatedEPKci'\n",
        "```\n",
        "\n",
        "This means that you are on a mac and you don't have the right `tensorflow-metal` [version installed](https://pypi.org/project/tensorflow-metal/):\n",
        "\n",
        "\n",
        "```bash\n",
        "pip install tensorflow-metal==1.1.0\n",
        "```"
      ]
    },
    {
      "cell_type": "markdown",
      "metadata": {
        "id": "Dc5ROhEU3U73"
      },
      "source": [
        "Check your versions with the following code:\n"
      ]
    },
    {
      "cell_type": "code",
      "execution_count": 3,
      "metadata": {
        "colab": {
          "base_uri": "https://localhost:8080/"
        },
        "id": "BzyFio-l3U73",
        "outputId": "375d4a14-4de5-4082-8bc0-23909abc7af4"
      },
      "outputs": [
        {
          "name": "stdout",
          "output_type": "stream",
          "text": [
            "Tensforflow Version :  2.14.0\n",
            "Transformers Version :  4.35.2\n"
          ]
        }
      ],
      "source": [
        "# Version Info\n",
        "print(\"Tensforflow Version : \" ,tf.__version__)\n",
        "print(\"Transformers Version : \" ,transformers.__version__)"
      ]
    },
    {
      "cell_type": "markdown",
      "metadata": {
        "id": "EPd9hZXtC1RB"
      },
      "source": [
        "## TASK 2: The Data"
      ]
    },
    {
      "cell_type": "markdown",
      "metadata": {
        "id": "D3R6TcHg3U74"
      },
      "source": [
        "We will be using reviews from the UCI Machine Learning Repository\n",
        "\n",
        "URL : https://archive.ics.uci.edu/ml/datasets/Sentiment+Labelled+Sentences\n",
        "\n",
        "This should have three files :\n",
        "\n",
        "1. imbd_labelled.txt\n",
        "2. amazon_cells_labelled.txt\n",
        "3. yelp_labelled.txt\n",
        "\n",
        "We use the tensorflow utils to download and extract the data."
      ]
    },
    {
      "cell_type": "code",
      "execution_count": 4,
      "metadata": {
        "colab": {
          "base_uri": "https://localhost:8080/"
        },
        "id": "QYulutFq3U74",
        "outputId": "b544dd52-a37a-4fa5-f82a-20b8034306c1"
      },
      "outputs": [
        {
          "name": "stdout",
          "output_type": "stream",
          "text": [
            "\n",
            " data/datasets/sentiment+labelled+sentences.zip\n"
          ]
        }
      ],
      "source": [
        "# make a data folder\n",
        "!mkdir -p data\n",
        "\n",
        "# download the data\n",
        "out_path = tf.keras.utils.get_file(origin=\"https://archive.ics.uci.edu/static/public/331/sentiment+labelled+sentences.zip\",extract=True,cache_dir=\"data\")\n",
        "print(\"\\n\",out_path)"
      ]
    },
    {
      "cell_type": "markdown",
      "metadata": {
        "id": "PUrzd6_x3U74"
      },
      "source": [
        "Let's take a peek at the data with `pandas`"
      ]
    },
    {
      "cell_type": "code",
      "execution_count": 5,
      "metadata": {
        "colab": {
          "base_uri": "https://localhost:8080/",
          "height": 423
        },
        "id": "X9vOov4r3U74",
        "outputId": "05971169-39a2-4cc2-db6e-306df3f4a14e"
      },
      "outputs": [
        {
          "data": {
            "text/html": [
              "\n",
              "  <div id=\"df-6ff5e68f-0cb1-4768-a97c-11c64ad512f5\" class=\"colab-df-container\">\n",
              "    <div>\n",
              "<style scoped>\n",
              "    .dataframe tbody tr th:only-of-type {\n",
              "        vertical-align: middle;\n",
              "    }\n",
              "\n",
              "    .dataframe tbody tr th {\n",
              "        vertical-align: top;\n",
              "    }\n",
              "\n",
              "    .dataframe thead th {\n",
              "        text-align: right;\n",
              "    }\n",
              "</style>\n",
              "<table border=\"1\" class=\"dataframe\">\n",
              "  <thead>\n",
              "    <tr style=\"text-align: right;\">\n",
              "      <th></th>\n",
              "      <th>0</th>\n",
              "      <th>1</th>\n",
              "    </tr>\n",
              "  </thead>\n",
              "  <tbody>\n",
              "    <tr>\n",
              "      <th>0</th>\n",
              "      <td>So there is no way for me to plug it in here i...</td>\n",
              "      <td>0</td>\n",
              "    </tr>\n",
              "    <tr>\n",
              "      <th>1</th>\n",
              "      <td>Good case, Excellent value.</td>\n",
              "      <td>1</td>\n",
              "    </tr>\n",
              "    <tr>\n",
              "      <th>2</th>\n",
              "      <td>Great for the jawbone.</td>\n",
              "      <td>1</td>\n",
              "    </tr>\n",
              "    <tr>\n",
              "      <th>3</th>\n",
              "      <td>Tied to charger for conversations lasting more...</td>\n",
              "      <td>0</td>\n",
              "    </tr>\n",
              "    <tr>\n",
              "      <th>4</th>\n",
              "      <td>The mic is great.</td>\n",
              "      <td>1</td>\n",
              "    </tr>\n",
              "    <tr>\n",
              "      <th>...</th>\n",
              "      <td>...</td>\n",
              "      <td>...</td>\n",
              "    </tr>\n",
              "    <tr>\n",
              "      <th>995</th>\n",
              "      <td>The screen does get smudged easily because it ...</td>\n",
              "      <td>0</td>\n",
              "    </tr>\n",
              "    <tr>\n",
              "      <th>996</th>\n",
              "      <td>What a piece of junk.. I lose more calls on th...</td>\n",
              "      <td>0</td>\n",
              "    </tr>\n",
              "    <tr>\n",
              "      <th>997</th>\n",
              "      <td>Item Does Not Match Picture.</td>\n",
              "      <td>0</td>\n",
              "    </tr>\n",
              "    <tr>\n",
              "      <th>998</th>\n",
              "      <td>The only thing that disappoint me is the infra...</td>\n",
              "      <td>0</td>\n",
              "    </tr>\n",
              "    <tr>\n",
              "      <th>999</th>\n",
              "      <td>You can not answer calls with the unit, never ...</td>\n",
              "      <td>0</td>\n",
              "    </tr>\n",
              "  </tbody>\n",
              "</table>\n",
              "<p>1000 rows × 2 columns</p>\n",
              "</div>\n",
              "    <div class=\"colab-df-buttons\">\n",
              "\n",
              "  <div class=\"colab-df-container\">\n",
              "    <button class=\"colab-df-convert\" onclick=\"convertToInteractive('df-6ff5e68f-0cb1-4768-a97c-11c64ad512f5')\"\n",
              "            title=\"Convert this dataframe to an interactive table.\"\n",
              "            style=\"display:none;\">\n",
              "\n",
              "  <svg xmlns=\"http://www.w3.org/2000/svg\" height=\"24px\" viewBox=\"0 -960 960 960\">\n",
              "    <path d=\"M120-120v-720h720v720H120Zm60-500h600v-160H180v160Zm220 220h160v-160H400v160Zm0 220h160v-160H400v160ZM180-400h160v-160H180v160Zm440 0h160v-160H620v160ZM180-180h160v-160H180v160Zm440 0h160v-160H620v160Z\"/>\n",
              "  </svg>\n",
              "    </button>\n",
              "\n",
              "  <style>\n",
              "    .colab-df-container {\n",
              "      display:flex;\n",
              "      gap: 12px;\n",
              "    }\n",
              "\n",
              "    .colab-df-convert {\n",
              "      background-color: #E8F0FE;\n",
              "      border: none;\n",
              "      border-radius: 50%;\n",
              "      cursor: pointer;\n",
              "      display: none;\n",
              "      fill: #1967D2;\n",
              "      height: 32px;\n",
              "      padding: 0 0 0 0;\n",
              "      width: 32px;\n",
              "    }\n",
              "\n",
              "    .colab-df-convert:hover {\n",
              "      background-color: #E2EBFA;\n",
              "      box-shadow: 0px 1px 2px rgba(60, 64, 67, 0.3), 0px 1px 3px 1px rgba(60, 64, 67, 0.15);\n",
              "      fill: #174EA6;\n",
              "    }\n",
              "\n",
              "    .colab-df-buttons div {\n",
              "      margin-bottom: 4px;\n",
              "    }\n",
              "\n",
              "    [theme=dark] .colab-df-convert {\n",
              "      background-color: #3B4455;\n",
              "      fill: #D2E3FC;\n",
              "    }\n",
              "\n",
              "    [theme=dark] .colab-df-convert:hover {\n",
              "      background-color: #434B5C;\n",
              "      box-shadow: 0px 1px 3px 1px rgba(0, 0, 0, 0.15);\n",
              "      filter: drop-shadow(0px 1px 2px rgba(0, 0, 0, 0.3));\n",
              "      fill: #FFFFFF;\n",
              "    }\n",
              "  </style>\n",
              "\n",
              "    <script>\n",
              "      const buttonEl =\n",
              "        document.querySelector('#df-6ff5e68f-0cb1-4768-a97c-11c64ad512f5 button.colab-df-convert');\n",
              "      buttonEl.style.display =\n",
              "        google.colab.kernel.accessAllowed ? 'block' : 'none';\n",
              "\n",
              "      async function convertToInteractive(key) {\n",
              "        const element = document.querySelector('#df-6ff5e68f-0cb1-4768-a97c-11c64ad512f5');\n",
              "        const dataTable =\n",
              "          await google.colab.kernel.invokeFunction('convertToInteractive',\n",
              "                                                    [key], {});\n",
              "        if (!dataTable) return;\n",
              "\n",
              "        const docLinkHtml = 'Like what you see? Visit the ' +\n",
              "          '<a target=\"_blank\" href=https://colab.research.google.com/notebooks/data_table.ipynb>data table notebook</a>'\n",
              "          + ' to learn more about interactive tables.';\n",
              "        element.innerHTML = '';\n",
              "        dataTable['output_type'] = 'display_data';\n",
              "        await google.colab.output.renderOutput(dataTable, element);\n",
              "        const docLink = document.createElement('div');\n",
              "        docLink.innerHTML = docLinkHtml;\n",
              "        element.appendChild(docLink);\n",
              "      }\n",
              "    </script>\n",
              "  </div>\n",
              "\n",
              "\n",
              "<div id=\"df-8e92eb46-19fc-450e-9a11-92d14692509b\">\n",
              "  <button class=\"colab-df-quickchart\" onclick=\"quickchart('df-8e92eb46-19fc-450e-9a11-92d14692509b')\"\n",
              "            title=\"Suggest charts\"\n",
              "            style=\"display:none;\">\n",
              "\n",
              "<svg xmlns=\"http://www.w3.org/2000/svg\" height=\"24px\"viewBox=\"0 0 24 24\"\n",
              "     width=\"24px\">\n",
              "    <g>\n",
              "        <path d=\"M19 3H5c-1.1 0-2 .9-2 2v14c0 1.1.9 2 2 2h14c1.1 0 2-.9 2-2V5c0-1.1-.9-2-2-2zM9 17H7v-7h2v7zm4 0h-2V7h2v10zm4 0h-2v-4h2v4z\"/>\n",
              "    </g>\n",
              "</svg>\n",
              "  </button>\n",
              "\n",
              "<style>\n",
              "  .colab-df-quickchart {\n",
              "      --bg-color: #E8F0FE;\n",
              "      --fill-color: #1967D2;\n",
              "      --hover-bg-color: #E2EBFA;\n",
              "      --hover-fill-color: #174EA6;\n",
              "      --disabled-fill-color: #AAA;\n",
              "      --disabled-bg-color: #DDD;\n",
              "  }\n",
              "\n",
              "  [theme=dark] .colab-df-quickchart {\n",
              "      --bg-color: #3B4455;\n",
              "      --fill-color: #D2E3FC;\n",
              "      --hover-bg-color: #434B5C;\n",
              "      --hover-fill-color: #FFFFFF;\n",
              "      --disabled-bg-color: #3B4455;\n",
              "      --disabled-fill-color: #666;\n",
              "  }\n",
              "\n",
              "  .colab-df-quickchart {\n",
              "    background-color: var(--bg-color);\n",
              "    border: none;\n",
              "    border-radius: 50%;\n",
              "    cursor: pointer;\n",
              "    display: none;\n",
              "    fill: var(--fill-color);\n",
              "    height: 32px;\n",
              "    padding: 0;\n",
              "    width: 32px;\n",
              "  }\n",
              "\n",
              "  .colab-df-quickchart:hover {\n",
              "    background-color: var(--hover-bg-color);\n",
              "    box-shadow: 0 1px 2px rgba(60, 64, 67, 0.3), 0 1px 3px 1px rgba(60, 64, 67, 0.15);\n",
              "    fill: var(--button-hover-fill-color);\n",
              "  }\n",
              "\n",
              "  .colab-df-quickchart-complete:disabled,\n",
              "  .colab-df-quickchart-complete:disabled:hover {\n",
              "    background-color: var(--disabled-bg-color);\n",
              "    fill: var(--disabled-fill-color);\n",
              "    box-shadow: none;\n",
              "  }\n",
              "\n",
              "  .colab-df-spinner {\n",
              "    border: 2px solid var(--fill-color);\n",
              "    border-color: transparent;\n",
              "    border-bottom-color: var(--fill-color);\n",
              "    animation:\n",
              "      spin 1s steps(1) infinite;\n",
              "  }\n",
              "\n",
              "  @keyframes spin {\n",
              "    0% {\n",
              "      border-color: transparent;\n",
              "      border-bottom-color: var(--fill-color);\n",
              "      border-left-color: var(--fill-color);\n",
              "    }\n",
              "    20% {\n",
              "      border-color: transparent;\n",
              "      border-left-color: var(--fill-color);\n",
              "      border-top-color: var(--fill-color);\n",
              "    }\n",
              "    30% {\n",
              "      border-color: transparent;\n",
              "      border-left-color: var(--fill-color);\n",
              "      border-top-color: var(--fill-color);\n",
              "      border-right-color: var(--fill-color);\n",
              "    }\n",
              "    40% {\n",
              "      border-color: transparent;\n",
              "      border-right-color: var(--fill-color);\n",
              "      border-top-color: var(--fill-color);\n",
              "    }\n",
              "    60% {\n",
              "      border-color: transparent;\n",
              "      border-right-color: var(--fill-color);\n",
              "    }\n",
              "    80% {\n",
              "      border-color: transparent;\n",
              "      border-right-color: var(--fill-color);\n",
              "      border-bottom-color: var(--fill-color);\n",
              "    }\n",
              "    90% {\n",
              "      border-color: transparent;\n",
              "      border-bottom-color: var(--fill-color);\n",
              "    }\n",
              "  }\n",
              "</style>\n",
              "\n",
              "  <script>\n",
              "    async function quickchart(key) {\n",
              "      const quickchartButtonEl =\n",
              "        document.querySelector('#' + key + ' button');\n",
              "      quickchartButtonEl.disabled = true;  // To prevent multiple clicks.\n",
              "      quickchartButtonEl.classList.add('colab-df-spinner');\n",
              "      try {\n",
              "        const charts = await google.colab.kernel.invokeFunction(\n",
              "            'suggestCharts', [key], {});\n",
              "      } catch (error) {\n",
              "        console.error('Error during call to suggestCharts:', error);\n",
              "      }\n",
              "      quickchartButtonEl.classList.remove('colab-df-spinner');\n",
              "      quickchartButtonEl.classList.add('colab-df-quickchart-complete');\n",
              "    }\n",
              "    (() => {\n",
              "      let quickchartButtonEl =\n",
              "        document.querySelector('#df-8e92eb46-19fc-450e-9a11-92d14692509b button');\n",
              "      quickchartButtonEl.style.display =\n",
              "        google.colab.kernel.accessAllowed ? 'block' : 'none';\n",
              "    })();\n",
              "  </script>\n",
              "</div>\n",
              "    </div>\n",
              "  </div>\n"
            ],
            "text/plain": [
              "                                                     0  1\n",
              "0    So there is no way for me to plug it in here i...  0\n",
              "1                          Good case, Excellent value.  1\n",
              "2                               Great for the jawbone.  1\n",
              "3    Tied to charger for conversations lasting more...  0\n",
              "4                                    The mic is great.  1\n",
              "..                                                 ... ..\n",
              "995  The screen does get smudged easily because it ...  0\n",
              "996  What a piece of junk.. I lose more calls on th...  0\n",
              "997                       Item Does Not Match Picture.  0\n",
              "998  The only thing that disappoint me is the infra...  0\n",
              "999  You can not answer calls with the unit, never ...  0\n",
              "\n",
              "[1000 rows x 2 columns]"
            ]
          },
          "execution_count": 5,
          "metadata": {},
          "output_type": "execute_result"
        }
      ],
      "source": [
        "# viewing the data\n",
        "amz_data = \"data/datasets/sentiment labelled sentences/amazon_cells_labelled.txt\"\n",
        "amz_df = pd.read_csv(amz_data, sep=\"\\t\", header=None)\n",
        "amz_df"
      ]
    },
    {
      "cell_type": "markdown",
      "metadata": {
        "id": "o12HL7Cs3U75"
      },
      "source": [
        "Models usually take batches of the same size. It would be useful to check the distribution of the lengths of the sentences in the dataset. (We will need to define a max length of sentences to use.)"
      ]
    },
    {
      "cell_type": "code",
      "execution_count": 6,
      "metadata": {
        "colab": {
          "base_uri": "https://localhost:8080/",
          "height": 472
        },
        "id": "Emrbxhyk3U75",
        "outputId": "df9d66cc-28de-4fdc-86f7-b990286035cd"
      },
      "outputs": [
        {
          "data": {
            "image/png": "[encoded data removed]",
            "text/plain": [
              "<Figure size 640x480 with 1 Axes>"
            ]
          },
          "metadata": {},
          "output_type": "display_data"
        }
      ],
      "source": [
        "# TODO: plot the length of the reviews\n",
        "# hint: use the .str.len() method on the first column of the dataframe to get the length of the sentences out\n",
        "# y axis should be the count/number of reviews\n",
        "# x axis should be the length of the reviews\n",
        "# a histogram is a good choice here for visualization\n",
        "# label your axes!\n",
        "amz_df['Review Length'] = amz_df[0].str.len()\n",
        "\n",
        "# Plotting the histogram\n",
        "plt.hist(amz_df['Review Length'], bins=20, color='skyblue', edgecolor='black')\n",
        "plt.title('Distribution of Review Lengths')\n",
        "plt.xlabel('Review Length')\n",
        "plt.ylabel('Number of Reviews')\n",
        "plt.show()"
      ]
    },
    {
      "cell_type": "markdown",
      "metadata": {
        "id": "VmigAhUuC4Yv"
      },
      "source": [
        "**TODO:** Explore the other two data files, similarly to what we have done above (and what we've done on our homeworks)."
      ]
    },
    {
      "cell_type": "code",
      "execution_count": 7,
      "metadata": {
        "colab": {
          "base_uri": "https://localhost:8080/",
          "height": 423
        },
        "id": "IMGFRmnWDBEu",
        "outputId": "896f8e19-66d6-468a-de6b-8849707ddb9b"
      },
      "outputs": [
        {
          "data": {
            "text/html": [
              "\n",
              "  <div id=\"df-974de69c-38e0-4fd7-adde-c4c31e238730\" class=\"colab-df-container\">\n",
              "    <div>\n",
              "<style scoped>\n",
              "    .dataframe tbody tr th:only-of-type {\n",
              "        vertical-align: middle;\n",
              "    }\n",
              "\n",
              "    .dataframe tbody tr th {\n",
              "        vertical-align: top;\n",
              "    }\n",
              "\n",
              "    .dataframe thead th {\n",
              "        text-align: right;\n",
              "    }\n",
              "</style>\n",
              "<table border=\"1\" class=\"dataframe\">\n",
              "  <thead>\n",
              "    <tr style=\"text-align: right;\">\n",
              "      <th></th>\n",
              "      <th>0</th>\n",
              "      <th>1</th>\n",
              "    </tr>\n",
              "  </thead>\n",
              "  <tbody>\n",
              "    <tr>\n",
              "      <th>0</th>\n",
              "      <td>A very, very, very slow-moving, aimless movie ...</td>\n",
              "      <td>0</td>\n",
              "    </tr>\n",
              "    <tr>\n",
              "      <th>1</th>\n",
              "      <td>Not sure who was more lost - the flat characte...</td>\n",
              "      <td>0</td>\n",
              "    </tr>\n",
              "    <tr>\n",
              "      <th>2</th>\n",
              "      <td>Attempting artiness with black &amp; white and cle...</td>\n",
              "      <td>0</td>\n",
              "    </tr>\n",
              "    <tr>\n",
              "      <th>3</th>\n",
              "      <td>Very little music or anything to speak of.</td>\n",
              "      <td>0</td>\n",
              "    </tr>\n",
              "    <tr>\n",
              "      <th>4</th>\n",
              "      <td>The best scene in the movie was when Gerardo i...</td>\n",
              "      <td>1</td>\n",
              "    </tr>\n",
              "    <tr>\n",
              "      <th>...</th>\n",
              "      <td>...</td>\n",
              "      <td>...</td>\n",
              "    </tr>\n",
              "    <tr>\n",
              "      <th>743</th>\n",
              "      <td>I just got bored watching Jessice Lange take h...</td>\n",
              "      <td>0</td>\n",
              "    </tr>\n",
              "    <tr>\n",
              "      <th>744</th>\n",
              "      <td>Unfortunately, any virtue in this film's produ...</td>\n",
              "      <td>0</td>\n",
              "    </tr>\n",
              "    <tr>\n",
              "      <th>745</th>\n",
              "      <td>In a word, it is embarrassing.</td>\n",
              "      <td>0</td>\n",
              "    </tr>\n",
              "    <tr>\n",
              "      <th>746</th>\n",
              "      <td>Exceptionally bad!</td>\n",
              "      <td>0</td>\n",
              "    </tr>\n",
              "    <tr>\n",
              "      <th>747</th>\n",
              "      <td>All in all its an insult to one's intelligence...</td>\n",
              "      <td>0</td>\n",
              "    </tr>\n",
              "  </tbody>\n",
              "</table>\n",
              "<p>748 rows × 2 columns</p>\n",
              "</div>\n",
              "    <div class=\"colab-df-buttons\">\n",
              "\n",
              "  <div class=\"colab-df-container\">\n",
              "    <button class=\"colab-df-convert\" onclick=\"convertToInteractive('df-974de69c-38e0-4fd7-adde-c4c31e238730')\"\n",
              "            title=\"Convert this dataframe to an interactive table.\"\n",
              "            style=\"display:none;\">\n",
              "\n",
              "  <svg xmlns=\"http://www.w3.org/2000/svg\" height=\"24px\" viewBox=\"0 -960 960 960\">\n",
              "    <path d=\"M120-120v-720h720v720H120Zm60-500h600v-160H180v160Zm220 220h160v-160H400v160Zm0 220h160v-160H400v160ZM180-400h160v-160H180v160Zm440 0h160v-160H620v160ZM180-180h160v-160H180v160Zm440 0h160v-160H620v160Z\"/>\n",
              "  </svg>\n",
              "    </button>\n",
              "\n",
              "  <style>\n",
              "    .colab-df-container {\n",
              "      display:flex;\n",
              "      gap: 12px;\n",
              "    }\n",
              "\n",
              "    .colab-df-convert {\n",
              "      background-color: #E8F0FE;\n",
              "      border: none;\n",
              "      border-radius: 50%;\n",
              "      cursor: pointer;\n",
              "      display: none;\n",
              "      fill: #1967D2;\n",
              "      height: 32px;\n",
              "      padding: 0 0 0 0;\n",
              "      width: 32px;\n",
              "    }\n",
              "\n",
              "    .colab-df-convert:hover {\n",
              "      background-color: #E2EBFA;\n",
              "      box-shadow: 0px 1px 2px rgba(60, 64, 67, 0.3), 0px 1px 3px 1px rgba(60, 64, 67, 0.15);\n",
              "      fill: #174EA6;\n",
              "    }\n",
              "\n",
              "    .colab-df-buttons div {\n",
              "      margin-bottom: 4px;\n",
              "    }\n",
              "\n",
              "    [theme=dark] .colab-df-convert {\n",
              "      background-color: #3B4455;\n",
              "      fill: #D2E3FC;\n",
              "    }\n",
              "\n",
              "    [theme=dark] .colab-df-convert:hover {\n",
              "      background-color: #434B5C;\n",
              "      box-shadow: 0px 1px 3px 1px rgba(0, 0, 0, 0.15);\n",
              "      filter: drop-shadow(0px 1px 2px rgba(0, 0, 0, 0.3));\n",
              "      fill: #FFFFFF;\n",
              "    }\n",
              "  </style>\n",
              "\n",
              "    <script>\n",
              "      const buttonEl =\n",
              "        document.querySelector('#df-974de69c-38e0-4fd7-adde-c4c31e238730 button.colab-df-convert');\n",
              "      buttonEl.style.display =\n",
              "        google.colab.kernel.accessAllowed ? 'block' : 'none';\n",
              "\n",
              "      async function convertToInteractive(key) {\n",
              "        const element = document.querySelector('#df-974de69c-38e0-4fd7-adde-c4c31e238730');\n",
              "        const dataTable =\n",
              "          await google.colab.kernel.invokeFunction('convertToInteractive',\n",
              "                                                    [key], {});\n",
              "        if (!dataTable) return;\n",
              "\n",
              "        const docLinkHtml = 'Like what you see? Visit the ' +\n",
              "          '<a target=\"_blank\" href=https://colab.research.google.com/notebooks/data_table.ipynb>data table notebook</a>'\n",
              "          + ' to learn more about interactive tables.';\n",
              "        element.innerHTML = '';\n",
              "        dataTable['output_type'] = 'display_data';\n",
              "        await google.colab.output.renderOutput(dataTable, element);\n",
              "        const docLink = document.createElement('div');\n",
              "        docLink.innerHTML = docLinkHtml;\n",
              "        element.appendChild(docLink);\n",
              "      }\n",
              "    </script>\n",
              "  </div>\n",
              "\n",
              "\n",
              "<div id=\"df-22fae015-118a-47d3-a0d9-766620c1ac43\">\n",
              "  <button class=\"colab-df-quickchart\" onclick=\"quickchart('df-22fae015-118a-47d3-a0d9-766620c1ac43')\"\n",
              "            title=\"Suggest charts\"\n",
              "            style=\"display:none;\">\n",
              "\n",
              "<svg xmlns=\"http://www.w3.org/2000/svg\" height=\"24px\"viewBox=\"0 0 24 24\"\n",
              "     width=\"24px\">\n",
              "    <g>\n",
              "        <path d=\"M19 3H5c-1.1 0-2 .9-2 2v14c0 1.1.9 2 2 2h14c1.1 0 2-.9 2-2V5c0-1.1-.9-2-2-2zM9 17H7v-7h2v7zm4 0h-2V7h2v10zm4 0h-2v-4h2v4z\"/>\n",
              "    </g>\n",
              "</svg>\n",
              "  </button>\n",
              "\n",
              "<style>\n",
              "  .colab-df-quickchart {\n",
              "      --bg-color: #E8F0FE;\n",
              "      --fill-color: #1967D2;\n",
              "      --hover-bg-color: #E2EBFA;\n",
              "      --hover-fill-color: #174EA6;\n",
              "      --disabled-fill-color: #AAA;\n",
              "      --disabled-bg-color: #DDD;\n",
              "  }\n",
              "\n",
              "  [theme=dark] .colab-df-quickchart {\n",
              "      --bg-color: #3B4455;\n",
              "      --fill-color: #D2E3FC;\n",
              "      --hover-bg-color: #434B5C;\n",
              "      --hover-fill-color: #FFFFFF;\n",
              "      --disabled-bg-color: #3B4455;\n",
              "      --disabled-fill-color: #666;\n",
              "  }\n",
              "\n",
              "  .colab-df-quickchart {\n",
              "    background-color: var(--bg-color);\n",
              "    border: none;\n",
              "    border-radius: 50%;\n",
              "    cursor: pointer;\n",
              "    display: none;\n",
              "    fill: var(--fill-color);\n",
              "    height: 32px;\n",
              "    padding: 0;\n",
              "    width: 32px;\n",
              "  }\n",
              "\n",
              "  .colab-df-quickchart:hover {\n",
              "    background-color: var(--hover-bg-color);\n",
              "    box-shadow: 0 1px 2px rgba(60, 64, 67, 0.3), 0 1px 3px 1px rgba(60, 64, 67, 0.15);\n",
              "    fill: var(--button-hover-fill-color);\n",
              "  }\n",
              "\n",
              "  .colab-df-quickchart-complete:disabled,\n",
              "  .colab-df-quickchart-complete:disabled:hover {\n",
              "    background-color: var(--disabled-bg-color);\n",
              "    fill: var(--disabled-fill-color);\n",
              "    box-shadow: none;\n",
              "  }\n",
              "\n",
              "  .colab-df-spinner {\n",
              "    border: 2px solid var(--fill-color);\n",
              "    border-color: transparent;\n",
              "    border-bottom-color: var(--fill-color);\n",
              "    animation:\n",
              "      spin 1s steps(1) infinite;\n",
              "  }\n",
              "\n",
              "  @keyframes spin {\n",
              "    0% {\n",
              "      border-color: transparent;\n",
              "      border-bottom-color: var(--fill-color);\n",
              "      border-left-color: var(--fill-color);\n",
              "    }\n",
              "    20% {\n",
              "      border-color: transparent;\n",
              "      border-left-color: var(--fill-color);\n",
              "      border-top-color: var(--fill-color);\n",
              "    }\n",
              "    30% {\n",
              "      border-color: transparent;\n",
              "      border-left-color: var(--fill-color);\n",
              "      border-top-color: var(--fill-color);\n",
              "      border-right-color: var(--fill-color);\n",
              "    }\n",
              "    40% {\n",
              "      border-color: transparent;\n",
              "      border-right-color: var(--fill-color);\n",
              "      border-top-color: var(--fill-color);\n",
              "    }\n",
              "    60% {\n",
              "      border-color: transparent;\n",
              "      border-right-color: var(--fill-color);\n",
              "    }\n",
              "    80% {\n",
              "      border-color: transparent;\n",
              "      border-right-color: var(--fill-color);\n",
              "      border-bottom-color: var(--fill-color);\n",
              "    }\n",
              "    90% {\n",
              "      border-color: transparent;\n",
              "      border-bottom-color: var(--fill-color);\n",
              "    }\n",
              "  }\n",
              "</style>\n",
              "\n",
              "  <script>\n",
              "    async function quickchart(key) {\n",
              "      const quickchartButtonEl =\n",
              "        document.querySelector('#' + key + ' button');\n",
              "      quickchartButtonEl.disabled = true;  // To prevent multiple clicks.\n",
              "      quickchartButtonEl.classList.add('colab-df-spinner');\n",
              "      try {\n",
              "        const charts = await google.colab.kernel.invokeFunction(\n",
              "            'suggestCharts', [key], {});\n",
              "      } catch (error) {\n",
              "        console.error('Error during call to suggestCharts:', error);\n",
              "      }\n",
              "      quickchartButtonEl.classList.remove('colab-df-spinner');\n",
              "      quickchartButtonEl.classList.add('colab-df-quickchart-complete');\n",
              "    }\n",
              "    (() => {\n",
              "      let quickchartButtonEl =\n",
              "        document.querySelector('#df-22fae015-118a-47d3-a0d9-766620c1ac43 button');\n",
              "      quickchartButtonEl.style.display =\n",
              "        google.colab.kernel.accessAllowed ? 'block' : 'none';\n",
              "    })();\n",
              "  </script>\n",
              "</div>\n",
              "    </div>\n",
              "  </div>\n"
            ],
            "text/plain": [
              "                                                     0  1\n",
              "0    A very, very, very slow-moving, aimless movie ...  0\n",
              "1    Not sure who was more lost - the flat characte...  0\n",
              "2    Attempting artiness with black & white and cle...  0\n",
              "3         Very little music or anything to speak of.    0\n",
              "4    The best scene in the movie was when Gerardo i...  1\n",
              "..                                                 ... ..\n",
              "743  I just got bored watching Jessice Lange take h...  0\n",
              "744  Unfortunately, any virtue in this film's produ...  0\n",
              "745                   In a word, it is embarrassing.    0\n",
              "746                               Exceptionally bad!    0\n",
              "747  All in all its an insult to one's intelligence...  0\n",
              "\n",
              "[748 rows x 2 columns]"
            ]
          },
          "execution_count": 7,
          "metadata": {},
          "output_type": "execute_result"
        }
      ],
      "source": [
        "# Other data files explored here\n",
        "imdb_data = \"data/datasets/sentiment labelled sentences/imdb_labelled.txt\"\n",
        "imdb_df = pd.read_csv(imdb_data, sep=\"\\t\", header=None)\n",
        "imdb_df"
      ]
    },
    {
      "cell_type": "code",
      "execution_count": 8,
      "metadata": {
        "colab": {
          "base_uri": "https://localhost:8080/",
          "height": 472
        },
        "id": "OugG-jLQo30K",
        "outputId": "c7d18ea7-a9f3-4f8a-838e-f8ae07b8f3cd"
      },
      "outputs": [
        {
          "data": {
            "image/png": "[encoded data removed]",
            "text/plain": [
              "<Figure size 640x480 with 1 Axes>"
            ]
          },
          "metadata": {},
          "output_type": "display_data"
        }
      ],
      "source": [
        "imdb_df['Review Length'] = imdb_df[0].str.len()\n",
        "\n",
        "# Plotting the histogram\n",
        "plt.hist(imdb_df['Review Length'], bins=20, color='skyblue', edgecolor='black')\n",
        "plt.title('Distribution of Review Lengths')\n",
        "plt.xlabel('Review Length')\n",
        "plt.ylabel('Number of Reviews')\n",
        "plt.show()"
      ]
    },
    {
      "cell_type": "code",
      "execution_count": 9,
      "metadata": {
        "colab": {
          "base_uri": "https://localhost:8080/",
          "height": 423
        },
        "id": "dGbD9EpImUSL",
        "outputId": "817d33fe-618a-4550-a30c-4b435495564c"
      },
      "outputs": [
        {
          "data": {
            "text/html": [
              "\n",
              "  <div id=\"df-d32e5081-68b8-4a55-9e43-18b01e7fcee3\" class=\"colab-df-container\">\n",
              "    <div>\n",
              "<style scoped>\n",
              "    .dataframe tbody tr th:only-of-type {\n",
              "        vertical-align: middle;\n",
              "    }\n",
              "\n",
              "    .dataframe tbody tr th {\n",
              "        vertical-align: top;\n",
              "    }\n",
              "\n",
              "    .dataframe thead th {\n",
              "        text-align: right;\n",
              "    }\n",
              "</style>\n",
              "<table border=\"1\" class=\"dataframe\">\n",
              "  <thead>\n",
              "    <tr style=\"text-align: right;\">\n",
              "      <th></th>\n",
              "      <th>0</th>\n",
              "      <th>1</th>\n",
              "    </tr>\n",
              "  </thead>\n",
              "  <tbody>\n",
              "    <tr>\n",
              "      <th>0</th>\n",
              "      <td>Wow... Loved this place.</td>\n",
              "      <td>1</td>\n",
              "    </tr>\n",
              "    <tr>\n",
              "      <th>1</th>\n",
              "      <td>Crust is not good.</td>\n",
              "      <td>0</td>\n",
              "    </tr>\n",
              "    <tr>\n",
              "      <th>2</th>\n",
              "      <td>Not tasty and the texture was just nasty.</td>\n",
              "      <td>0</td>\n",
              "    </tr>\n",
              "    <tr>\n",
              "      <th>3</th>\n",
              "      <td>Stopped by during the late May bank holiday of...</td>\n",
              "      <td>1</td>\n",
              "    </tr>\n",
              "    <tr>\n",
              "      <th>4</th>\n",
              "      <td>The selection on the menu was great and so wer...</td>\n",
              "      <td>1</td>\n",
              "    </tr>\n",
              "    <tr>\n",
              "      <th>...</th>\n",
              "      <td>...</td>\n",
              "      <td>...</td>\n",
              "    </tr>\n",
              "    <tr>\n",
              "      <th>995</th>\n",
              "      <td>I think food should have flavor and texture an...</td>\n",
              "      <td>0</td>\n",
              "    </tr>\n",
              "    <tr>\n",
              "      <th>996</th>\n",
              "      <td>Appetite instantly gone.</td>\n",
              "      <td>0</td>\n",
              "    </tr>\n",
              "    <tr>\n",
              "      <th>997</th>\n",
              "      <td>Overall I was not impressed and would not go b...</td>\n",
              "      <td>0</td>\n",
              "    </tr>\n",
              "    <tr>\n",
              "      <th>998</th>\n",
              "      <td>The whole experience was underwhelming, and I ...</td>\n",
              "      <td>0</td>\n",
              "    </tr>\n",
              "    <tr>\n",
              "      <th>999</th>\n",
              "      <td>Then, as if I hadn't wasted enough of my life ...</td>\n",
              "      <td>0</td>\n",
              "    </tr>\n",
              "  </tbody>\n",
              "</table>\n",
              "<p>1000 rows × 2 columns</p>\n",
              "</div>\n",
              "    <div class=\"colab-df-buttons\">\n",
              "\n",
              "  <div class=\"colab-df-container\">\n",
              "    <button class=\"colab-df-convert\" onclick=\"convertToInteractive('df-d32e5081-68b8-4a55-9e43-18b01e7fcee3')\"\n",
              "            title=\"Convert this dataframe to an interactive table.\"\n",
              "            style=\"display:none;\">\n",
              "\n",
              "  <svg xmlns=\"http://www.w3.org/2000/svg\" height=\"24px\" viewBox=\"0 -960 960 960\">\n",
              "    <path d=\"M120-120v-720h720v720H120Zm60-500h600v-160H180v160Zm220 220h160v-160H400v160Zm0 220h160v-160H400v160ZM180-400h160v-160H180v160Zm440 0h160v-160H620v160ZM180-180h160v-160H180v160Zm440 0h160v-160H620v160Z\"/>\n",
              "  </svg>\n",
              "    </button>\n",
              "\n",
              "  <style>\n",
              "    .colab-df-container {\n",
              "      display:flex;\n",
              "      gap: 12px;\n",
              "    }\n",
              "\n",
              "    .colab-df-convert {\n",
              "      background-color: #E8F0FE;\n",
              "      border: none;\n",
              "      border-radius: 50%;\n",
              "      cursor: pointer;\n",
              "      display: none;\n",
              "      fill: #1967D2;\n",
              "      height: 32px;\n",
              "      padding: 0 0 0 0;\n",
              "      width: 32px;\n",
              "    }\n",
              "\n",
              "    .colab-df-convert:hover {\n",
              "      background-color: #E2EBFA;\n",
              "      box-shadow: 0px 1px 2px rgba(60, 64, 67, 0.3), 0px 1px 3px 1px rgba(60, 64, 67, 0.15);\n",
              "      fill: #174EA6;\n",
              "    }\n",
              "\n",
              "    .colab-df-buttons div {\n",
              "      margin-bottom: 4px;\n",
              "    }\n",
              "\n",
              "    [theme=dark] .colab-df-convert {\n",
              "      background-color: #3B4455;\n",
              "      fill: #D2E3FC;\n",
              "    }\n",
              "\n",
              "    [theme=dark] .colab-df-convert:hover {\n",
              "      background-color: #434B5C;\n",
              "      box-shadow: 0px 1px 3px 1px rgba(0, 0, 0, 0.15);\n",
              "      filter: drop-shadow(0px 1px 2px rgba(0, 0, 0, 0.3));\n",
              "      fill: #FFFFFF;\n",
              "    }\n",
              "  </style>\n",
              "\n",
              "    <script>\n",
              "      const buttonEl =\n",
              "        document.querySelector('#df-d32e5081-68b8-4a55-9e43-18b01e7fcee3 button.colab-df-convert');\n",
              "      buttonEl.style.display =\n",
              "        google.colab.kernel.accessAllowed ? 'block' : 'none';\n",
              "\n",
              "      async function convertToInteractive(key) {\n",
              "        const element = document.querySelector('#df-d32e5081-68b8-4a55-9e43-18b01e7fcee3');\n",
              "        const dataTable =\n",
              "          await google.colab.kernel.invokeFunction('convertToInteractive',\n",
              "                                                    [key], {});\n",
              "        if (!dataTable) return;\n",
              "\n",
              "        const docLinkHtml = 'Like what you see? Visit the ' +\n",
              "          '<a target=\"_blank\" href=https://colab.research.google.com/notebooks/data_table.ipynb>data table notebook</a>'\n",
              "          + ' to learn more about interactive tables.';\n",
              "        element.innerHTML = '';\n",
              "        dataTable['output_type'] = 'display_data';\n",
              "        await google.colab.output.renderOutput(dataTable, element);\n",
              "        const docLink = document.createElement('div');\n",
              "        docLink.innerHTML = docLinkHtml;\n",
              "        element.appendChild(docLink);\n",
              "      }\n",
              "    </script>\n",
              "  </div>\n",
              "\n",
              "\n",
              "<div id=\"df-0281464f-bd25-432f-b78f-2c19a23b989f\">\n",
              "  <button class=\"colab-df-quickchart\" onclick=\"quickchart('df-0281464f-bd25-432f-b78f-2c19a23b989f')\"\n",
              "            title=\"Suggest charts\"\n",
              "            style=\"display:none;\">\n",
              "\n",
              "<svg xmlns=\"http://www.w3.org/2000/svg\" height=\"24px\"viewBox=\"0 0 24 24\"\n",
              "     width=\"24px\">\n",
              "    <g>\n",
              "        <path d=\"M19 3H5c-1.1 0-2 .9-2 2v14c0 1.1.9 2 2 2h14c1.1 0 2-.9 2-2V5c0-1.1-.9-2-2-2zM9 17H7v-7h2v7zm4 0h-2V7h2v10zm4 0h-2v-4h2v4z\"/>\n",
              "    </g>\n",
              "</svg>\n",
              "  </button>\n",
              "\n",
              "<style>\n",
              "  .colab-df-quickchart {\n",
              "      --bg-color: #E8F0FE;\n",
              "      --fill-color: #1967D2;\n",
              "      --hover-bg-color: #E2EBFA;\n",
              "      --hover-fill-color: #174EA6;\n",
              "      --disabled-fill-color: #AAA;\n",
              "      --disabled-bg-color: #DDD;\n",
              "  }\n",
              "\n",
              "  [theme=dark] .colab-df-quickchart {\n",
              "      --bg-color: #3B4455;\n",
              "      --fill-color: #D2E3FC;\n",
              "      --hover-bg-color: #434B5C;\n",
              "      --hover-fill-color: #FFFFFF;\n",
              "      --disabled-bg-color: #3B4455;\n",
              "      --disabled-fill-color: #666;\n",
              "  }\n",
              "\n",
              "  .colab-df-quickchart {\n",
              "    background-color: var(--bg-color);\n",
              "    border: none;\n",
              "    border-radius: 50%;\n",
              "    cursor: pointer;\n",
              "    display: none;\n",
              "    fill: var(--fill-color);\n",
              "    height: 32px;\n",
              "    padding: 0;\n",
              "    width: 32px;\n",
              "  }\n",
              "\n",
              "  .colab-df-quickchart:hover {\n",
              "    background-color: var(--hover-bg-color);\n",
              "    box-shadow: 0 1px 2px rgba(60, 64, 67, 0.3), 0 1px 3px 1px rgba(60, 64, 67, 0.15);\n",
              "    fill: var(--button-hover-fill-color);\n",
              "  }\n",
              "\n",
              "  .colab-df-quickchart-complete:disabled,\n",
              "  .colab-df-quickchart-complete:disabled:hover {\n",
              "    background-color: var(--disabled-bg-color);\n",
              "    fill: var(--disabled-fill-color);\n",
              "    box-shadow: none;\n",
              "  }\n",
              "\n",
              "  .colab-df-spinner {\n",
              "    border: 2px solid var(--fill-color);\n",
              "    border-color: transparent;\n",
              "    border-bottom-color: var(--fill-color);\n",
              "    animation:\n",
              "      spin 1s steps(1) infinite;\n",
              "  }\n",
              "\n",
              "  @keyframes spin {\n",
              "    0% {\n",
              "      border-color: transparent;\n",
              "      border-bottom-color: var(--fill-color);\n",
              "      border-left-color: var(--fill-color);\n",
              "    }\n",
              "    20% {\n",
              "      border-color: transparent;\n",
              "      border-left-color: var(--fill-color);\n",
              "      border-top-color: var(--fill-color);\n",
              "    }\n",
              "    30% {\n",
              "      border-color: transparent;\n",
              "      border-left-color: var(--fill-color);\n",
              "      border-top-color: var(--fill-color);\n",
              "      border-right-color: var(--fill-color);\n",
              "    }\n",
              "    40% {\n",
              "      border-color: transparent;\n",
              "      border-right-color: var(--fill-color);\n",
              "      border-top-color: var(--fill-color);\n",
              "    }\n",
              "    60% {\n",
              "      border-color: transparent;\n",
              "      border-right-color: var(--fill-color);\n",
              "    }\n",
              "    80% {\n",
              "      border-color: transparent;\n",
              "      border-right-color: var(--fill-color);\n",
              "      border-bottom-color: var(--fill-color);\n",
              "    }\n",
              "    90% {\n",
              "      border-color: transparent;\n",
              "      border-bottom-color: var(--fill-color);\n",
              "    }\n",
              "  }\n",
              "</style>\n",
              "\n",
              "  <script>\n",
              "    async function quickchart(key) {\n",
              "      const quickchartButtonEl =\n",
              "        document.querySelector('#' + key + ' button');\n",
              "      quickchartButtonEl.disabled = true;  // To prevent multiple clicks.\n",
              "      quickchartButtonEl.classList.add('colab-df-spinner');\n",
              "      try {\n",
              "        const charts = await google.colab.kernel.invokeFunction(\n",
              "            'suggestCharts', [key], {});\n",
              "      } catch (error) {\n",
              "        console.error('Error during call to suggestCharts:', error);\n",
              "      }\n",
              "      quickchartButtonEl.classList.remove('colab-df-spinner');\n",
              "      quickchartButtonEl.classList.add('colab-df-quickchart-complete');\n",
              "    }\n",
              "    (() => {\n",
              "      let quickchartButtonEl =\n",
              "        document.querySelector('#df-0281464f-bd25-432f-b78f-2c19a23b989f button');\n",
              "      quickchartButtonEl.style.display =\n",
              "        google.colab.kernel.accessAllowed ? 'block' : 'none';\n",
              "    })();\n",
              "  </script>\n",
              "</div>\n",
              "    </div>\n",
              "  </div>\n"
            ],
            "text/plain": [
              "                                                     0  1\n",
              "0                             Wow... Loved this place.  1\n",
              "1                                   Crust is not good.  0\n",
              "2            Not tasty and the texture was just nasty.  0\n",
              "3    Stopped by during the late May bank holiday of...  1\n",
              "4    The selection on the menu was great and so wer...  1\n",
              "..                                                 ... ..\n",
              "995  I think food should have flavor and texture an...  0\n",
              "996                           Appetite instantly gone.  0\n",
              "997  Overall I was not impressed and would not go b...  0\n",
              "998  The whole experience was underwhelming, and I ...  0\n",
              "999  Then, as if I hadn't wasted enough of my life ...  0\n",
              "\n",
              "[1000 rows x 2 columns]"
            ]
          },
          "execution_count": 9,
          "metadata": {},
          "output_type": "execute_result"
        }
      ],
      "source": [
        "# viewing the data\n",
        "yelp_data = \"data/datasets/sentiment labelled sentences/yelp_labelled.txt\"\n",
        "yelp_df = pd.read_csv(yelp_data, sep=\"\\t\", header=None)\n",
        "yelp_df"
      ]
    },
    {
      "cell_type": "code",
      "execution_count": 10,
      "metadata": {
        "colab": {
          "base_uri": "https://localhost:8080/",
          "height": 472
        },
        "id": "4houNv9ppBNC",
        "outputId": "f05f5e75-de7f-48ac-8fa5-e9d62d367674"
      },
      "outputs": [
        {
          "data": {
            "image/png": "[encoded data removed]",
            "text/plain": [
              "<Figure size 640x480 with 1 Axes>"
            ]
          },
          "metadata": {},
          "output_type": "display_data"
        }
      ],
      "source": [
        "yelp_df['Review Length'] = yelp_df[0].str.len()\n",
        "\n",
        "# Plotting the histogram\n",
        "plt.hist(yelp_df['Review Length'], bins=20, color='skyblue', edgecolor='black')\n",
        "plt.title('Distribution of Review Lengths')\n",
        "plt.xlabel('Review Length')\n",
        "plt.ylabel('Number of Reviews')\n",
        "plt.show()"
      ]
    },
    {
      "cell_type": "markdown",
      "metadata": {
        "id": "xrhH5gxhDGWN"
      },
      "source": [
        "## TASK 3: Setting BERT up"
      ]
    },
    {
      "cell_type": "markdown",
      "metadata": {
        "id": "fgyFw7zkDIM_"
      },
      "source": [
        "__IMPORTANT__:\n",
        "BERT uses two special tokens while tokenization, they are [CLS] and [SEP]. The [CLS] token is used to capture the overall representation of the input sequence for classification tasks, while the [SEP] token is used to indicate sentence boundaries and separate different segments of text, enabling BERT to understand relationships between sentences. These tokens play a vital role in enabling BERT to handle a wide range of natural language processing tasks effectively."
      ]
    },
    {
      "cell_type": "markdown",
      "metadata": {
        "id": "cstsfT2B3U75"
      },
      "source": [
        "Let us now begin by understanding the Tokenizer used by BERT and the BERT Model Inputs and Outputs"
      ]
    },
    {
      "cell_type": "code",
      "execution_count": 11,
      "metadata": {
        "id": "bdagkfGR3U76"
      },
      "outputs": [],
      "source": [
        "# import specific models\n",
        "from transformers import BertTokenizer, TFBertModel\n",
        "\n",
        "# define a max length constant\n",
        "MAX_LENGTH = 256"
      ]
    },
    {
      "cell_type": "code",
      "execution_count": 12,
      "metadata": {
        "colab": {
          "base_uri": "https://localhost:8080/"
        },
        "id": "A8NP_1_q3U76",
        "outputId": "533ff7c5-ed59-4700-eb51-faf8bdb0e46c"
      },
      "outputs": [
        {
          "name": "stderr",
          "output_type": "stream",
          "text": [
            "Some weights of the PyTorch model were not used when initializing the TF 2.0 model TFBertModel: ['cls.predictions.transform.LayerNorm.bias', 'cls.seq_relationship.weight', 'cls.predictions.transform.dense.weight', 'cls.predictions.transform.dense.bias', 'cls.predictions.transform.LayerNorm.weight', 'cls.seq_relationship.bias', 'cls.predictions.bias']\n",
            "- This IS expected if you are initializing TFBertModel from a PyTorch model trained on another task or with another architecture (e.g. initializing a TFBertForSequenceClassification model from a BertForPreTraining model).\n",
            "- This IS NOT expected if you are initializing TFBertModel from a PyTorch model that you expect to be exactly identical (e.g. initializing a TFBertForSequenceClassification model from a BertForSequenceClassification model).\n",
            "All the weights of TFBertModel were initialized from the PyTorch model.\n",
            "If your task is similar to the task the model of the checkpoint was trained on, you can already use TFBertModel for predictions without further training.\n"
          ]
        }
      ],
      "source": [
        "# downloads a bunch of stuff. On Felix's computer (in Meserve Hall), this took ~half a minute\n",
        "tokenizer = BertTokenizer.from_pretrained('bert-base-uncased')\n",
        "bert = TFBertModel.from_pretrained('bert-base-uncased')\n",
        "\n",
        "# expect to see:\n",
        "# Some weights of the PyTorch model were not used when initializing the TF 2.0 model TFBertModel: ['cls.predictions.transform.LayerNorm.bias', 'cls.predictions.bias', 'cls.seq_relationship.weight', 'cls.seq_relationship.bias', 'cls.predictions.transform.dense.bias', 'cls.predictions.transform.dense.weight', 'cls.predictions.transform.LayerNorm.weight']\n",
        "# - This IS expected if you are initializing TFBertModel from a PyTorch model trained on another task or with another architecture (e.g. initializing a TFBertForSequenceClassification model from a BertForPreTraining model).\n",
        "# - This IS NOT expected if you are initializing TFBertModel from a PyTorch model that you expect to be exactly identical (e.g. initializing a TFBertForSequenceClassification model from a BertForSequenceClassification model).\n",
        "# All the weights of TFBertModel were initialized from the PyTorch model.\n",
        "# If your task is similar to the task the model of the checkpoint was trained on, you can already use TFBertModel for predictions without further training."
      ]
    },
    {
      "cell_type": "code",
      "execution_count": 13,
      "metadata": {
        "colab": {
          "base_uri": "https://localhost:8080/"
        },
        "id": "dyC5gU3v-YyG",
        "outputId": "e6230985-de7d-4cf3-f2f4-dc04f5f5dcac"
      },
      "outputs": [
        {
          "name": "stdout",
          "output_type": "stream",
          "text": [
            "Model: \"tf_bert_model\"\n",
            "_________________________________________________________________\n",
            " Layer (type)                Output Shape              Param #   \n",
            "=================================================================\n",
            " bert (TFBertMainLayer)      multiple                  109482240 \n",
            "                                                                 \n",
            "=================================================================\n",
            "Total params: 109482240 (417.64 MB)\n",
            "Trainable params: 109482240 (417.64 MB)\n",
            "Non-trainable params: 0 (0.00 Byte)\n",
            "_________________________________________________________________\n"
          ]
        }
      ],
      "source": [
        "# TODO: print out a summary of your downloaded bert model\n",
        "bert.summary()"
      ]
    },
    {
      "cell_type": "markdown",
      "metadata": {
        "id": "NCz4eg5x-bal"
      },
      "source": [
        "Notice how there are 109M parameters. These parameters have already been trained. We want to make sure these are not trained when we add on our own components later. (We'll \"freeze\" them.)"
      ]
    },
    {
      "cell_type": "markdown",
      "metadata": {
        "id": "04eD8Fa42cVy"
      },
      "source": [
        "1. What kind of text data do these weights encode? (Scour the internet and describe the contents of the data used to train BERT)\n",
        "\n",
        "    Answer: BERT's weights encode information from a diverse and extensive corpus of internet text, including web pages, articles, books, and various writing styles, to capture a broad understanding of natural language."
      ]
    },
    {
      "cell_type": "markdown",
      "metadata": {
        "id": "OmIp4Rs7DVUE"
      },
      "source": [
        "## The Tokenizer"
      ]
    },
    {
      "cell_type": "code",
      "execution_count": 14,
      "metadata": {
        "colab": {
          "base_uri": "https://localhost:8080/"
        },
        "id": "Ze5NIO3x3U76",
        "outputId": "8352e07c-b14c-44d5-e486-5bc6183a294d"
      },
      "outputs": [
        {
          "name": "stdout",
          "output_type": "stream",
          "text": [
            "First 10 tokens: ['[PAD]', '[unused0]', '[unused1]', '[unused2]', '[unused3]', '[unused4]', '[unused5]', '[unused6]', '[unused7]', '[unused8]']\n",
            "Last 10 tokens: ['##！', '##（', '##）', '##，', '##－', '##．', '##／', '##：', '##？', '##～']\n",
            "Middle 10 tokens: ['amazed', 'ada', 'elaine', 'supper', '##rth', '##encies', 'predator', 'debated', 'soviets', 'cola']\n",
            "Vocab length is :  30522\n",
            "Token at id 2897:  n e t w o r k\n",
            "Token at id 102:  [ S E P ]\n",
            "Token at id 103:  [ M A S K ]\n",
            "My name in vocab? 3419\n"
          ]
        }
      ],
      "source": [
        "# TODO: print out the first 10 tokens in the tokenizer's vocabulary, the\n",
        "# last ten tokens, and ten tokens from somewhere in the middle of the vocabulary\n",
        "# print out the things necessary to answer the questions below\n",
        "\n",
        "# tokenizer.vocab will access the vocabulary\n",
        "# tokenizer.vocab.keys() will give you the words in the vocabulary. You can convert this to a list to index into it.\n",
        "# tokenizer.vocab[string] will give you the token id for the string\n",
        "# tokenizer.decode(id) will give you the string for the token id\n",
        "\n",
        "# Access the vocabulary\n",
        "vocab = list(tokenizer.vocab.keys())\n",
        "\n",
        "# Print the first 10 tokens\n",
        "print(\"First 10 tokens:\", vocab[:10])\n",
        "\n",
        "# Print the last 10 tokens\n",
        "print(\"Last 10 tokens:\", vocab[-10:])\n",
        "\n",
        "# Print 10 tokens from the middle of the vocabulary\n",
        "middle_index = len(vocab) // 2\n",
        "print(\"Middle 10 tokens:\", vocab[middle_index:middle_index + 10])\n",
        "\n",
        "print(\"Vocab length is : \",len(tokenizer.vocab))\n",
        "\n",
        "print(\"Token at id 2897: \", tokenizer.decode(2897))\n",
        "print(\"Token at id 102: \", tokenizer.decode(102))\n",
        "print(\"Token at id 103: \", tokenizer.decode(103))\n",
        "\n",
        "print(\"My name in vocab?\", tokenizer.vocab[\"tom\"])"
      ]
    },
    {
      "cell_type": "markdown",
      "metadata": {
        "id": "gD_JofAthWQQ"
      },
      "source": [
        "2. What is the token associated with id 2897? network\n",
        "3. What is the token associated with id 102? [SEP]\n",
        "4. What is the token associated with id 103? [MASK]\n",
        "5. Is your name in BERT's vocabulary (make sure to used the lowercase version, e.g. \"felix\")? If yes, what is it's id?\n",
        "    \n",
        "    Answer: NO, our names are not in Vocab. (We added Tom because none of our names worked)"
      ]
    },
    {
      "cell_type": "code",
      "execution_count": 15,
      "metadata": {
        "colab": {
          "base_uri": "https://localhost:8080/"
        },
        "id": "ahvhFZSE3U76",
        "outputId": "ac57460b-3349-41b9-c5f0-e555f4cd87ea"
      },
      "outputs": [
        {
          "name": "stdout",
          "output_type": "stream",
          "text": [
            "input_ids :  tf.Tensor([[  101  7592  1010  2026  3899  2003 10140  1010  2053  2428   102]], shape=(1, 11), dtype=int32)\n",
            "token_type_ids :  tf.Tensor([[0 0 0 0 0 0 0 0 0 0 0]], shape=(1, 11), dtype=int32)\n",
            "attention_mask :  tf.Tensor([[1 1 1 1 1 1 1 1 1 1 1]], shape=(1, 11), dtype=int32)\n",
            "[CLS] hello, my dog is cute, no really [SEP]\n"
          ]
        }
      ],
      "source": [
        "# example of tokenizing a sentence with the bert tokenizer\n",
        "input_text = \"Hello, my dog is cute, no really\"\n",
        "out = tokenizer(input_text,return_tensors=\"tf\")\n",
        "for key in out:\n",
        "    print(key,\": \",out[key])\n",
        "\n",
        "# notice the differences between the input_text and what is printed out here\n",
        "print(tokenizer.decode(out[\"input_ids\"][0]))"
      ]
    },
    {
      "cell_type": "markdown",
      "metadata": {
        "id": "F7aibPRm3U76"
      },
      "source": [
        "Notice the different keys returned by the tokenizer. The model can take as input all three keys or just one of them the \"input_ids\".\n",
        "Since the model requires a fixed length input, we will need to pad the sequences to the same length. Let us pad and turn the sequences into length 15 as an example."
      ]
    },
    {
      "cell_type": "code",
      "execution_count": 16,
      "metadata": {
        "colab": {
          "base_uri": "https://localhost:8080/"
        },
        "id": "9rQN3WHF3U77",
        "outputId": "0f8a903d-f669-497b-9265-1b4f2d8befbd"
      },
      "outputs": [
        {
          "name": "stdout",
          "output_type": "stream",
          "text": [
            "input_ids :  tf.Tensor([[  101  7592  1010  2026  3899  2003  2025 10140  1010  2053  2428   102]], shape=(1, 12), dtype=int32)\n",
            "token_type_ids :  tf.Tensor([[0 0 0 0 0 0 0 0 0 0 0 0]], shape=(1, 12), dtype=int32)\n",
            "attention_mask :  tf.Tensor([[1 1 1 1 1 1 1 1 1 1 1 1]], shape=(1, 12), dtype=int32)\n",
            "[CLS] hello, my dog is not cute, no really [SEP]\n"
          ]
        }
      ],
      "source": [
        "# TODO: set the max_length and truncation parameters of the tokenizer\n",
        "# the behavior that you want to end up with is a tokenizer that produces tensors that\n",
        "# are never over 15. You are not providing paired input\n",
        "\n",
        "# Tokenizer documentation: https://huggingface.co/docs/transformers/main_classes/tokenizer\n",
        "\n",
        "# Set max_length and truncation\n",
        "max_len = 15\n",
        "truncation = True\n",
        "\n",
        "input_text = \"Hello, my dog is not cute, no really\"\n",
        "\n",
        "# TODO: update this line\n",
        "out = tokenizer(input_text, return_tensors=\"tf\", max_length=max_len, truncation=truncation)\n",
        "\n",
        "for key in out:\n",
        "    print(key,\": \",out[key])\n",
        "print(tokenizer.decode(out[\"input_ids\"][0]))"
      ]
    },
    {
      "cell_type": "markdown",
      "metadata": {
        "id": "Rb7Jhkmh3U77"
      },
      "source": [
        "The tokenzier also returns multiple outputs for multiple sentences. This is useful for batching.\n",
        "\n",
        "NOTE : The max length is 512 for BERT. We will use 128 or 256 for this lab (our `MAX_LENGTH` parameter)"
      ]
    },
    {
      "cell_type": "code",
      "execution_count": 17,
      "metadata": {
        "colab": {
          "base_uri": "https://localhost:8080/"
        },
        "id": "VybL0aDS3U77",
        "outputId": "2574ab3b-13d5-4c7d-c227-5122b993e60f"
      },
      "outputs": [
        {
          "name": "stdout",
          "output_type": "stream",
          "text": [
            "input_ids :  (3, 16)\n",
            "token_type_ids :  (3, 16)\n",
            "attention_mask :  (3, 16)\n"
          ]
        }
      ],
      "source": [
        "# TODO: make a list of sentences that you want to tokenize with at least 3 sentences that are padded to MAX_LENGTH\n",
        "# make sure that you can tokenize them all at once by looking at the shapes of the tensors that have been output\n",
        "\n",
        "sentences = [\n",
        "    \"This is the first sentence.\",\n",
        "    \"Here is the second sentence, which is a bit longer.\",\n",
        "    \"And finally, the third sentence for testing padding and tokenization.\"\n",
        "]\n",
        "batch_x = tokenizer(sentences, return_tensors=\"tf\", padding=True, truncation=True, max_length=MAX_LENGTH)\n",
        "# here's some code to look at the shapes of the tensors that have been output\n",
        "for key in batch_x:\n",
        "    print(key,\": \",batch_x[key].shape)"
      ]
    },
    {
      "cell_type": "code",
      "execution_count": 18,
      "metadata": {
        "colab": {
          "base_uri": "https://localhost:8080/"
        },
        "id": "FqoZW31r3U77",
        "outputId": "17e46f15-0b5d-4f3d-ea14-6e022e02024d"
      },
      "outputs": [
        {
          "data": {
            "text/plain": [
              "odict_keys(['last_hidden_state', 'pooler_output'])"
            ]
          },
          "execution_count": 18,
          "metadata": {},
          "output_type": "execute_result"
        }
      ],
      "source": [
        "# run bert on the input_ids\n",
        "out = bert(batch_x[\"input_ids\"])\n",
        "\n",
        "# display what the keys are for us\n",
        "out.keys()"
      ]
    },
    {
      "cell_type": "code",
      "execution_count": 19,
      "metadata": {
        "colab": {
          "base_uri": "https://localhost:8080/"
        },
        "id": "auI7ybZq3U77",
        "outputId": "4c595270-a7b4-4517-bf52-8b759a4d1271"
      },
      "outputs": [
        {
          "data": {
            "text/plain": [
              "TensorShape([3, 16, 768])"
            ]
          },
          "execution_count": 19,
          "metadata": {},
          "output_type": "execute_result"
        }
      ],
      "source": [
        "# take a look at the shape of the last_hidden_state\n",
        "out['last_hidden_state'].shape"
      ]
    },
    {
      "cell_type": "markdown",
      "metadata": {
        "id": "6ZIJGjHL3U77"
      },
      "source": [
        "The model returns two tensors of interest. One is the pooled output and the other is contextual hidden state over every token. We will use the hidden state associated with the first token [CLS] for classification. Additional strategies involve averaging the non padding states. The pooler output is a summary of the hidden states.\n",
        "\n",
        "5. Investigate the shape of `last_hidden_state`. What is the __meaning__ of each dimension? (why are each dimension numbered as they are/what do they correspond to? You may need to go investigate some documentation to fully answer this!) __TensorShape([3, 16, 768])- 3: number of sentences that are added to the model. (batch size), 16: max length of the sentence, 768: hidden size in the transformer model__"
      ]
    },
    {
      "cell_type": "code",
      "execution_count": 20,
      "metadata": {
        "colab": {
          "base_uri": "https://localhost:8080/"
        },
        "id": "8-nEKeH13U77",
        "outputId": "14f2d78a-c8db-4c9c-8d58-cfa6e7d7b667"
      },
      "outputs": [
        {
          "name": "stdout",
          "output_type": "stream",
          "text": [
            "First token [CLS] :\n"
          ]
        },
        {
          "data": {
            "text/plain": [
              "<tf.Tensor: shape=(3, 768), dtype=float32, numpy=\n",
              "array([[-0.56318873, -0.16611487, -0.036989  , ..., -0.03010933,\n",
              "         0.7496735 ,  0.07728498],\n",
              "       [-0.20429534, -0.07227062,  0.06869503, ..., -0.14972076,\n",
              "         0.42878544,  0.58831084],\n",
              "       [-0.19530046, -0.11665301, -0.30326992, ..., -0.2456943 ,\n",
              "         0.22200522,  0.5340295 ]], dtype=float32)>"
            ]
          },
          "execution_count": 20,
          "metadata": {},
          "output_type": "execute_result"
        }
      ],
      "source": [
        "# we can also run bert with unpacked inputs\n",
        "out = bert(**batch_x)\n",
        "\n",
        "# or with them as \"input_ids\" explicitly\n",
        "out = bert(input_ids=batch_x[\"input_ids\"])\n",
        "\n",
        "print(\"First token [CLS] :\")\n",
        "out[\"last_hidden_state\"][:,0,:]"
      ]
    },
    {
      "cell_type": "markdown",
      "metadata": {
        "id": "MDOKY_s6B8Ie"
      },
      "source": [
        "## Create a Data Generator"
      ]
    },
    {
      "cell_type": "code",
      "execution_count": 21,
      "metadata": {
        "id": "Op6JBjoM3U78"
      },
      "outputs": [],
      "source": [
        "# define a batch size for our experiments\n",
        "BATCH_SIZE = 8\n",
        "# define a percentage of the data to use for training\n",
        "SPLIT_PC = .80\n",
        "\n",
        "# TODO: caluculate the last index for the training data\n",
        "total_samples = len(amz_df)\n",
        "\n",
        "# Calculate the last index for training data\n",
        "END = int(SPLIT_PC * total_samples)\n"
      ]
    },
    {
      "cell_type": "code",
      "execution_count": 22,
      "metadata": {
        "colab": {
          "base_uri": "https://localhost:8080/"
        },
        "id": "Wbt1kOHWhWQU",
        "outputId": "59723eed-57e8-416e-8efd-8b7f4e06c9f7"
      },
      "outputs": [
        {
          "name": "stdout",
          "output_type": "stream",
          "text": [
            "Total samples: 1000\n",
            "Training data size: 800\n",
            "Testing data size: 200\n"
          ]
        }
      ],
      "source": [
        "#  TODO: get the training data and testing data set up\n",
        "train_df = amz_df.iloc[:END]\n",
        "test_df = amz_df.iloc[END:]\n",
        "\n",
        "# TODO: add print statements to verify the sizes of your training/testing data are correct\n",
        "\n",
        "print(\"Total samples:\", total_samples)\n",
        "print(\"Training data size:\", len(train_df))\n",
        "print(\"Testing data size:\", len(test_df))\n",
        "train_sentences,train_labels = train_df[0], train_df[1]\n",
        "test_sentences,test_labels = test_df[0], test_df[1]"
      ]
    },
    {
      "cell_type": "code",
      "execution_count": 23,
      "metadata": {
        "id": "sBGgSLsK3U78"
      },
      "outputs": [],
      "source": [
        "# data generator for the model\n",
        "def data_generator(sentences: np.array,labels: np.array,batch_size: int) -> (dict,tf.Tensor):\n",
        "    i = 0\n",
        "    total_samples = len(sentences)\n",
        "    while True:\n",
        "        batch_x = []\n",
        "        batch_y = []\n",
        "        # TODO: append batch_size number of sentences and labels to batch_x and batch_y\n",
        "        # Make sure that you don't re-use sentences and labels that you've already put into batches!\n",
        "        # YOU PROBABLY WANT A LOOP HERE\n",
        "        indices = np.random.choice(total_samples, size=batch_size, replace=False)\n",
        "\n",
        "        batch_x = sentences.iloc[indices].tolist()\n",
        "        batch_y = labels.iloc[indices]\n",
        "        # TODO: tokenize the batch_x, padding to MAX_LENGTH, and truncating to MAX_LENGTH\n",
        "        # batch_x = tokenizer(batch_x, return_tensors='tf', padding=True, truncation=True)\n",
        "        batch_x = tokenizer(\n",
        "            batch_x,\n",
        "            max_length=MAX_LENGTH,\n",
        "            padding='max_length',\n",
        "            truncation=True,\n",
        "            return_tensors='tf'\n",
        "        )\n",
        "        # debugging prints (make sure that these are commented out when you actually train your model)\n",
        "        # should be (batch_size, MAX_LENGTH)\n",
        "        # print(\"len: \", batch_x['input_ids'].shape)\n",
        "\n",
        "        # convert our ys into the appropriate tensor\n",
        "        batch_y = tf.convert_to_tensor(batch_y)\n",
        "\n",
        "        # debugging prints (make sure that these are commented out when you actually train your model)\n",
        "        # should be (batch_size,)\n",
        "        # print(batch_y.shape)\n",
        "        yield dict(batch_x), batch_y\n",
        "\n",
        "train_data = data_generator(train_sentences,train_labels,BATCH_SIZE)\n",
        "test_data = data_generator(test_sentences,test_labels,BATCH_SIZE)"
      ]
    },
    {
      "cell_type": "markdown",
      "metadata": {
        "id": "Xwi_HtRmCfFs"
      },
      "source": [
        "**\"Bonus\" Question** - How would you implement randomness in the generator above. (HINT `numpy.random.choice` and its `replace` option)\n",
        "\n",
        "(This is bonus in the sense that it is a good exercise to think about, not in the sense of us giving you extra credit. Feel free to talk to Prof. Felix more about the intersection of equity and extra credit.)"
      ]
    },
    {
      "cell_type": "code",
      "execution_count": 24,
      "metadata": {
        "colab": {
          "base_uri": "https://localhost:8080/"
        },
        "id": "QxuNw_DKBN4T",
        "outputId": "47f211de-c6c8-4dd4-eaac-b92407ee6de1"
      },
      "outputs": [
        {
          "name": "stdout",
          "output_type": "stream",
          "text": [
            "Shape of input_ids: (8, 256)\n",
            "Shape of y label tensor: (8,)\n"
          ]
        }
      ],
      "source": [
        "\n",
        "# TODO: Take a look at the contents of tmp_batch_x and tmp_batch_y and report the shapes of the `input_ids`\n",
        "# and the y label tensor.\n",
        "# make sure that the shapes are what you expect them to be\n",
        "# (take a look at the comments in the data_generator code)\n",
        "\n",
        "tmp_batch_x,tmp_batch_y = next(train_data)\n",
        "\n",
        "# Print shapes of input_ids and y label tensor\n",
        "print(\"Shape of input_ids:\", tmp_batch_x['input_ids'].shape)\n",
        "print(\"Shape of y label tensor:\", tmp_batch_y.shape)"
      ]
    },
    {
      "cell_type": "markdown",
      "metadata": {
        "id": "n78JGhebB4C_"
      },
      "source": [
        "## TASK 4: Build the Model"
      ]
    },
    {
      "cell_type": "markdown",
      "metadata": {
        "id": "0DQjpBh_-liQ"
      },
      "source": [
        "Remember how you used concatenated embeddings for your NN model for HW5. The model we design in this lab will take as input token_ids (batch_size, embedding_dim) , run it through a non-trainable bert, extract the 768 dim vector associated with the [CLS] token of each sentence in a batch, this 768 dim vector will play the role of our concatenated embeddings. The main take away is this : Any input size up to 512 will return a 768 dim vector we can use as an embedding for the entire sentence."
      ]
    },
    {
      "cell_type": "code",
      "execution_count": 25,
      "metadata": {
        "colab": {
          "base_uri": "https://localhost:8080/"
        },
        "id": "9T-oAymn3U78",
        "outputId": "eea8330c-5988-413f-abff-67e7aeb0ca76"
      },
      "outputs": [
        {
          "name": "stderr",
          "output_type": "stream",
          "text": [
            "Some weights of the PyTorch model were not used when initializing the TF 2.0 model TFBertModel: ['cls.predictions.transform.LayerNorm.bias', 'cls.seq_relationship.weight', 'cls.predictions.transform.dense.weight', 'cls.predictions.transform.dense.bias', 'cls.predictions.transform.LayerNorm.weight', 'cls.seq_relationship.bias', 'cls.predictions.bias']\n",
            "- This IS expected if you are initializing TFBertModel from a PyTorch model trained on another task or with another architecture (e.g. initializing a TFBertForSequenceClassification model from a BertForPreTraining model).\n",
            "- This IS NOT expected if you are initializing TFBertModel from a PyTorch model that you expect to be exactly identical (e.g. initializing a TFBertForSequenceClassification model from a BertForSequenceClassification model).\n",
            "All the weights of TFBertModel were initialized from the PyTorch model.\n",
            "If your task is similar to the task the model of the checkpoint was trained on, you can already use TFBertModel for predictions without further training.\n"
          ]
        }
      ],
      "source": [
        "# Build the model\n",
        "# This takes < 15 sec to run on Felix's computer\n",
        "\n",
        "bert_model = TFBertModel.from_pretrained('bert-base-uncased',output_attentions = False,return_dict=False)\n",
        "# we do not need attention outputs\n",
        "# we want to return tuples since they are easier to access\n",
        "\n",
        "bert_model.trainable = False\n",
        "# setting trainable to false ensures\n",
        "# we do not update its weights\n",
        "model_ = tf.keras.Sequential([\n",
        "    bert_model,\n",
        "    tf.keras.layers.Lambda(lambda x: x[0][:,0,:]), # https://keras.io/api/layers/core_layers/lambda/\n",
        "    tf.keras.layers.Dense(100,activation=\"relu\"),\n",
        "    tf.keras.layers.Dense(100,activation=\"relu\"),\n",
        "    tf.keras.layers.Dense(1,activation=\"sigmoid\")\n",
        "])\n",
        "\n",
        "model_.compile(loss=\"binary_crossentropy\",optimizer=\"adam\",metrics=[\"accuracy\"])"
      ]
    },
    {
      "cell_type": "markdown",
      "metadata": {
        "id": "Y4dI0D_ChWQV"
      },
      "source": [
        "1. What does the `Lambda` layer do? Why do we need it? (Read the documentation and investigate. Think carefully about what `x[0][:,0,:]` means. `x[0]` here is a numpy array.)\n",
        "\n",
        "    Answer: The Lambda layer here picks a specific part of the BERT output, focusing on the first token ([CLS] token) in the sequence. This helps extract important information for further processing.\n",
        "2. What weights will you be training in this model?\n",
        "\n",
        "    Answer: The model learns and adjusts the weights in the layers responsible for understanding and predicting, like the layers making sense of BERT's output and the final prediction layer.\n",
        "2. What weights will you __not__ be training in this model?\n",
        "\n",
        "    Answer: The BERT part comes with pre-learned knowledge. We don't change those weights during training; they stay as they are. We only tweak the parts that learn from BERT to suit our specific task."
      ]
    },
    {
      "cell_type": "markdown",
      "metadata": {
        "id": "heoBiDyaBl72"
      },
      "source": [
        "## Train the model\n",
        "\n",
        "We use `.fit` here"
      ]
    },
    {
      "cell_type": "markdown",
      "metadata": {
        "id": "_d_b3IWY_ZZz"
      },
      "source": [
        "We will also be adding a validation data generator and validation steps.\n",
        "This will allow us to check accuracy on the test_data wile we train over each epoch.\n",
        "\n",
        "For this part, you'll be training in some different configurations and __recording your results__. (don't forget to write these down!)"
      ]
    },
    {
      "cell_type": "code",
      "execution_count": 26,
      "metadata": {
        "colab": {
          "base_uri": "https://localhost:8080/"
        },
        "id": "O1Seudgl3U79",
        "outputId": "781b2aea-931a-48af-9f00-cdef8e5ce18f"
      },
      "outputs": [
        {
          "name": "stdout",
          "output_type": "stream",
          "text": [
            "Epoch 1/2\n",
            "100/100 [==============================] - 63s 344ms/step - loss: 0.4258 - accuracy: 0.8050 - val_loss: 0.1919 - val_accuracy: 0.9727\n",
            "Epoch 2/2\n",
            "100/100 [==============================] - 29s 288ms/step - loss: 0.2879 - accuracy: 0.8788 - val_loss: 0.1717 - val_accuracy: 0.9375\n",
            "time taken: 107.35272145271301\n"
          ]
        }
      ],
      "source": [
        "# 2 epochs takes ~2 and a half minutes on Felix's computer\n",
        "import time\n",
        "start = time.time()\n",
        "model_.fit(\n",
        "    train_data,\n",
        "    epochs=2,\n",
        "    batch_size=BATCH_SIZE,\n",
        "    steps_per_epoch=len(train_sentences)//BATCH_SIZE,\n",
        "    validation_data=test_data,\n",
        "    validation_steps=BATCH_SIZE*4,\n",
        "    validation_batch_size=BATCH_SIZE\n",
        ")\n",
        "end = time.time()\n",
        "print(f\"time taken: {end - start}\")"
      ]
    },
    {
      "cell_type": "markdown",
      "metadata": {
        "id": "of1cKkNACWjH"
      },
      "source": [
        "TODO: Now train the model on the other two files present in the data folder and report your results (make sure that you train your model from scratch). You will want to experiment with different `MAX_LENGTH`s, `batch_size`s, the number of dense layers you have, the number of hidden units per layer.\n",
        "\n",
        "In general, the more layers corresponds to the more levels of abstract information that your model will be able to extract/represent. The more hidden units (the \"wider\") your network has, the more information it will be able to memorize.\n",
        "\n",
        "4. Using the \"base\" model settings (the default values we've set for you), record the `val_accuracy` after 2 epochs for each training data set:\n",
        "    1. imdb: __0.8750__\n",
        "    2. amazon: __0.95__\n",
        "    3. yelp: __0.92__\n",
        "\n",
        "5. Choose one dataset. For at least 4 different combinations of settings, record the following five pieces of information:\n",
        "    1. training data: amazon\n",
        "    2. epochs: 2\n",
        "    3. dimensions of your network (# of layers, # of hidden units per layer) — this is the part after the bert model\n",
        "    4. `MAX_LENGTH` value\n",
        "    5. `batch_size` value\n",
        "    6. time to train\n",
        "    7. `val_accuracy` in the end\n",
        "--------------------------------------------------------------------------------\n",
        "    1. dimensions of your network: # of layers: 3, # of hidden units per layer: 50\n",
        "    2. `MAX_LENGTH` value: 128\n",
        "    3. `batch_size` value: 4\n",
        "    4. time to train: 52s\n",
        "    5. `val_accuracy` in the end: 0.89\n",
        "--------------------------------------------------------------------------------\n",
        "    1. dimensions of your network: # of layers: 3, # of hidden units per layer: 100\n",
        "    2. `MAX_LENGTH` value: 128\n",
        "    3. `batch_size` value: 4\n",
        "    4. time to train: 58s\n",
        "    5. `val_accuracy` in the end: 0.89\n",
        "--------------------------------------------------------------------------------\n",
        "    1. dimensions of your network: # of layers: 3, # of hidden units per layer: 100\n",
        "    2. `MAX_LENGTH` value: 256\n",
        "    3. `batch_size` value: 4\n",
        "    4. time to train: 71s\n",
        "    5. `val_accuracy` in the end: 0.94\n",
        "--------------------------------------------------------------------------------\n",
        "    1. dimensions of your network: # of layers: 3, # of hidden units per layer: 100\n",
        "    2. `MAX_LENGTH` value: 256\n",
        "    3. `batch_size` value: 8\n",
        "    4. time to train: 103s\n",
        "    5. `val_accuracy` in the end: 0.92\n",
        "\n",
        "\n",
        "\n",
        "6. What did your experiments show you? __Boosting MAX_LENGTH from 128 to 256 improved the Amazon dataset's validation accuracy, showing that longer reviews help during training. Also, upping the batch size from 4 to 8 increased accuracy and cut training time, indicating larger batches help the model generalize better for this dataset.__"
      ]
    },
    {
      "cell_type": "markdown",
      "metadata": {
        "id": "jv1ryJU2hWQW"
      },
      "source": []
    }
  ],
  "metadata": {
    "accelerator": "GPU",
    "colab": {
      "gpuType": "T4",
      "provenance": []
    },
    "kernelspec": {
      "display_name": "Python 3",
      "name": "python3"
    },
    "language_info": {
      "codemirror_mode": {
        "name": "ipython",
        "version": 3
      },
      "file_extension": ".py",
      "mimetype": "text/x-python",
      "name": "python",
      "nbconvert_exporter": "python",
      "pygments_lexer": "ipython3",
      "version": "3.10.9"
    }
  },
  "nbformat": 4,
  "nbformat_minor": 0
}
